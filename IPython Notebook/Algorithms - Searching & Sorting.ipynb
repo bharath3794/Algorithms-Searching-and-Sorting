{
 "cells": [
  {
   "cell_type": "markdown",
   "metadata": {},
   "source": [
    "## Different Methods to Linear Search for an element in an array"
   ]
  },
  {
   "cell_type": "code",
   "execution_count": 2,
   "metadata": {},
   "outputs": [],
   "source": [
    "arr = [1,2,3,4,5,6,7,8,9]"
   ]
  },
  {
   "cell_type": "markdown",
   "metadata": {},
   "source": [
    "#### Linear Search using python range() function"
   ]
  },
  {
   "cell_type": "code",
   "execution_count": 17,
   "metadata": {},
   "outputs": [],
   "source": [
    "# Linear Search using python range() function\n",
    "def bls(value, arr=arr):\n",
    "    for i in range(len(arr)):\n",
    "        if arr[i] == value:\n",
    "            return True\n",
    "    return False"
   ]
  },
  {
   "cell_type": "code",
   "execution_count": 38,
   "metadata": {},
   "outputs": [
    {
     "name": "stdout",
     "output_type": "stream",
     "text": [
      "630 ns ± 55.5 ns per loop (mean ± std. dev. of 7 runs, 1000000 loops each)\n"
     ]
    }
   ],
   "source": [
    "%timeit bls(9)"
   ]
  },
  {
   "cell_type": "markdown",
   "metadata": {},
   "source": [
    "#### Linear Search similar to for(i=0; i<n; i++) = while loop"
   ]
  },
  {
   "cell_type": "code",
   "execution_count": 43,
   "metadata": {},
   "outputs": [],
   "source": [
    "# Linear Search similar to for(i=0; i<n; i++) = while loop\n",
    "def nls(value, arr=arr):\n",
    "    i=0\n",
    "    while i<len(arr):\n",
    "        if arr[i] == value:\n",
    "            return True\n",
    "        i += 1\n",
    "    return False"
   ]
  },
  {
   "cell_type": "code",
   "execution_count": 45,
   "metadata": {},
   "outputs": [
    {
     "name": "stdout",
     "output_type": "stream",
     "text": [
      "1.04 µs ± 132 ns per loop (mean ± std. dev. of 7 runs, 1000000 loops each)\n"
     ]
    }
   ],
   "source": [
    "%timeit nls(9)"
   ]
  },
  {
   "cell_type": "markdown",
   "metadata": {},
   "source": [
    "#### Sentinel Linear Search"
   ]
  },
  {
   "cell_type": "code",
   "execution_count": 27,
   "metadata": {},
   "outputs": [],
   "source": [
    "# Sentinel Linear Search\n",
    "def sls(value, arr=arr):\n",
    "    temp = arr[len(arr)-1]\n",
    "    arr[len(arr)-1] = value\n",
    "    i = 0\n",
    "    while arr[i] != value:\n",
    "        i += 1\n",
    "    arr[len(arr)-1] = temp\n",
    "    if i < len(arr)-1 or arr[len(arr)-1] == value:\n",
    "        return True\n",
    "    return False"
   ]
  },
  {
   "cell_type": "code",
   "execution_count": 39,
   "metadata": {},
   "outputs": [
    {
     "name": "stdout",
     "output_type": "stream",
     "text": [
      "926 ns ± 51.4 ns per loop (mean ± std. dev. of 7 runs, 1000000 loops each)\n"
     ]
    }
   ],
   "source": [
    "%timeit sls(9)"
   ]
  },
  {
   "cell_type": "markdown",
   "metadata": {},
   "source": [
    "#### Modified Sentinel Linear Search"
   ]
  },
  {
   "cell_type": "code",
   "execution_count": 41,
   "metadata": {},
   "outputs": [],
   "source": [
    "# Modified Sentinel Linear Saerch\n",
    "def msls(value, arr=arr):\n",
    "    arr.append(value)\n",
    "    i = 0\n",
    "    while arr[i] != value:\n",
    "        i += 1\n",
    "    arr.pop()\n",
    "    if i == len(arr):\n",
    "        return False\n",
    "    return True"
   ]
  },
  {
   "cell_type": "code",
   "execution_count": 42,
   "metadata": {},
   "outputs": [
    {
     "name": "stdout",
     "output_type": "stream",
     "text": [
      "690 ns ± 186 ns per loop (mean ± std. dev. of 7 runs, 1000000 loops each)\n"
     ]
    }
   ],
   "source": [
    "%timeit msls(9)"
   ]
  },
  {
   "cell_type": "markdown",
   "metadata": {},
   "source": [
    "#### Linear Search using Recursion"
   ]
  },
  {
   "cell_type": "code",
   "execution_count": 48,
   "metadata": {},
   "outputs": [],
   "source": [
    "# Linear Search using Recursion\n",
    "def rls(value, arr=arr, idx=0):\n",
    "    found = False\n",
    "    if idx < len(arr) and arr[idx] == value:\n",
    "        found = True\n",
    "    elif idx < len(arr):\n",
    "        idx += 1\n",
    "        return ls(value, idx=idx)\n",
    "    return found"
   ]
  },
  {
   "cell_type": "code",
   "execution_count": 47,
   "metadata": {},
   "outputs": [
    {
     "name": "stdout",
     "output_type": "stream",
     "text": [
      "2.65 µs ± 53.8 ns per loop (mean ± std. dev. of 7 runs, 100000 loops each)\n"
     ]
    }
   ],
   "source": [
    "%timeit rls(9)"
   ]
  },
  {
   "cell_type": "code",
   "execution_count": 3,
   "metadata": {},
   "outputs": [],
   "source": [
    "arr = [1,2,3,4,5,6,7,8,9]"
   ]
  },
  {
   "cell_type": "markdown",
   "metadata": {},
   "source": [
    "### Binary Search using Recursion"
   ]
  },
  {
   "cell_type": "code",
   "execution_count": 4,
   "metadata": {},
   "outputs": [],
   "source": [
    "# Binary Search using Recursion\n",
    "def rec_bin_search(value, low=0, high=len(arr)-1, arr=arr):\n",
    "    mid = (low + high)//2\n",
    "    if low > high:\n",
    "        return False\n",
    "    elif arr[mid] == value:\n",
    "        return True\n",
    "    elif value < arr[mid]:\n",
    "        high = mid - 1\n",
    "    elif value > arr[mid]:\n",
    "        low = mid + 1\n",
    "    return rec_bin_search(value, low, high)"
   ]
  },
  {
   "cell_type": "code",
   "execution_count": 63,
   "metadata": {},
   "outputs": [
    {
     "name": "stdout",
     "output_type": "stream",
     "text": [
      "830 ns ± 21.9 ns per loop (mean ± std. dev. of 7 runs, 1000000 loops each)\n"
     ]
    }
   ],
   "source": [
    "%timeit rec_bin_search(9)"
   ]
  },
  {
   "cell_type": "markdown",
   "metadata": {},
   "source": [
    "### Selection Sort"
   ]
  },
  {
   "cell_type": "code",
   "execution_count": 1,
   "metadata": {},
   "outputs": [],
   "source": [
    "def selection_sort(arr):\n",
    "    for i in range(len(arr)-1):\n",
    "        low = i\n",
    "        for j in range(i+1, len(arr)):\n",
    "            if arr[low] > arr[j]:\n",
    "                low = j\n",
    "        arr[i], arr[low] = arr[low], arr[i]\n",
    "#         print(arr)\n",
    "    return arr"
   ]
  },
  {
   "cell_type": "code",
   "execution_count": 130,
   "metadata": {},
   "outputs": [
    {
     "name": "stdout",
     "output_type": "stream",
     "text": [
      "4.3 µs ± 321 ns per loop (mean ± std. dev. of 7 runs, 100000 loops each)\n"
     ]
    }
   ],
   "source": [
    "%timeit selection_sort([3, 4, -5, 1, 6, 8, -2, -8])"
   ]
  },
  {
   "cell_type": "code",
   "execution_count": 133,
   "metadata": {},
   "outputs": [
    {
     "name": "stdout",
     "output_type": "stream",
     "text": [
      "4.74 µs ± 1.02 µs per loop (mean ± std. dev. of 7 runs, 100000 loops each)\n"
     ]
    }
   ],
   "source": [
    "%timeit selection_sort([1, 2, 3, 4, 5, 6, 7, 8])"
   ]
  },
  {
   "cell_type": "code",
   "execution_count": 61,
   "metadata": {},
   "outputs": [
    {
     "name": "stdout",
     "output_type": "stream",
     "text": [
      "4.27 µs ± 40.8 ns per loop (mean ± std. dev. of 7 runs, 100000 loops each)\n"
     ]
    }
   ],
   "source": [
    "%timeit selection_sort([8, 7, 6, 5, 4, 3, 2, 1])"
   ]
  },
  {
   "cell_type": "markdown",
   "metadata": {},
   "source": [
    "### Insertion Sort"
   ]
  },
  {
   "cell_type": "code",
   "execution_count": 52,
   "metadata": {},
   "outputs": [],
   "source": [
    "def insertion_sort(arr):\n",
    "    for i in range(1, len(arr)):\n",
    "        key = arr[i]\n",
    "        idx = i\n",
    "        for j in range(i-1, -1, -1):\n",
    "            if key < arr[j]:\n",
    "                arr[j+1], idx = arr[j], j\n",
    "            else:\n",
    "                break\n",
    "        arr[idx] = key\n",
    "    return arr                "
   ]
  },
  {
   "cell_type": "code",
   "execution_count": 129,
   "metadata": {},
   "outputs": [
    {
     "name": "stdout",
     "output_type": "stream",
     "text": [
      "4.23 µs ± 365 ns per loop (mean ± std. dev. of 7 runs, 100000 loops each)\n"
     ]
    }
   ],
   "source": [
    "%timeit insertion_sort([3, 4, -5, 1, 6, 8, -2, -8])"
   ]
  },
  {
   "cell_type": "code",
   "execution_count": 134,
   "metadata": {},
   "outputs": [
    {
     "name": "stdout",
     "output_type": "stream",
     "text": [
      "2.65 µs ± 368 ns per loop (mean ± std. dev. of 7 runs, 100000 loops each)\n"
     ]
    }
   ],
   "source": [
    "%timeit insertion_sort([1,2,3,4,5,6,7,8])"
   ]
  },
  {
   "cell_type": "code",
   "execution_count": 69,
   "metadata": {},
   "outputs": [
    {
     "name": "stdout",
     "output_type": "stream",
     "text": [
      "4.78 µs ± 135 ns per loop (mean ± std. dev. of 7 runs, 100000 loops each)\n"
     ]
    }
   ],
   "source": [
    "%timeit insertion_sort([8, 7, 6, 5, 4, 3, 2, 1])"
   ]
  },
  {
   "cell_type": "markdown",
   "metadata": {},
   "source": [
    "### Merge Sort Method 1"
   ]
  },
  {
   "cell_type": "code",
   "execution_count": 310,
   "metadata": {},
   "outputs": [],
   "source": [
    "def merge_sort1(p, r, arr):\n",
    "    if p >= r:\n",
    "        return [arr[r]]\n",
    "    q = (p+r)//2\n",
    "    l_arr = merge_sort1(p, q, arr)\n",
    "    r_arr = merge_sort1(q+1, r, arr)\n",
    "# Merge procedure\n",
    "    sorted_arr = []\n",
    "    i=0\n",
    "    j=0\n",
    "    while i < len(l_arr) and j < len(r_arr):\n",
    "        if l_arr[i] > r_arr[j]:\n",
    "            sorted_arr.append(r_arr[j])\n",
    "            j += 1\n",
    "        elif l_arr[i] <= r_arr[j]:\n",
    "            sorted_arr.append(l_arr[i])\n",
    "            i += 1\n",
    "    while j < len(r_arr):\n",
    "        sorted_arr.append(r_arr[j])\n",
    "        j += 1\n",
    "    while i < len(l_arr):\n",
    "        sorted_arr.append(l_arr[i])\n",
    "        i += 1\n",
    "    return sorted_arr"
   ]
  },
  {
   "cell_type": "code",
   "execution_count": 138,
   "metadata": {},
   "outputs": [
    {
     "data": {
      "text/plain": [
       "[-8, -5, -2, 1, 3, 4, 6, 8]"
      ]
     },
     "execution_count": 138,
     "metadata": {},
     "output_type": "execute_result"
    }
   ],
   "source": [
    "arr = [3, 4, -5, 1, 6, 8, -2, -8]\n",
    "merge_sort1(0, len(arr)-1, arr)"
   ]
  },
  {
   "cell_type": "code",
   "execution_count": 131,
   "metadata": {},
   "outputs": [
    {
     "name": "stdout",
     "output_type": "stream",
     "text": [
      "8.63 µs ± 193 ns per loop (mean ± std. dev. of 7 runs, 100000 loops each)\n"
     ]
    }
   ],
   "source": [
    "arr = [3, 4, -5, 1, 6, 8, -2, -8]\n",
    "%timeit merge_sort1(0, len(arr)-1, arr)"
   ]
  },
  {
   "cell_type": "code",
   "execution_count": 132,
   "metadata": {},
   "outputs": [
    {
     "name": "stdout",
     "output_type": "stream",
     "text": [
      "8.43 µs ± 120 ns per loop (mean ± std. dev. of 7 runs, 100000 loops each)\n"
     ]
    }
   ],
   "source": [
    "arr = [1,2,3,4,5,6,7,8]\n",
    "%timeit merge_sort1(0, len(arr)-1, arr)"
   ]
  },
  {
   "cell_type": "code",
   "execution_count": 133,
   "metadata": {},
   "outputs": [
    {
     "name": "stdout",
     "output_type": "stream",
     "text": [
      "8.23 µs ± 107 ns per loop (mean ± std. dev. of 7 runs, 100000 loops each)\n"
     ]
    }
   ],
   "source": [
    "arr = [8, 7, 6, 5, 4, 3, 2, 1]\n",
    "%timeit merge_sort1(0, len(arr)-1, arr)"
   ]
  },
  {
   "cell_type": "markdown",
   "metadata": {},
   "source": [
    "### Merge Sort Method 2"
   ]
  },
  {
   "cell_type": "code",
   "execution_count": 6,
   "metadata": {},
   "outputs": [],
   "source": [
    "def merge_sort2(arr):\n",
    "    if len(arr) == 1:\n",
    "        return arr\n",
    "    p = 0\n",
    "    r = len(arr)-1\n",
    "    q = (p+r)//2\n",
    "    left = arr[:q+1]\n",
    "    right = arr[q+1:]\n",
    "    l_arr = merge_sort2(left)\n",
    "    r_arr = merge_sort2(right)\n",
    "# Merge procedure\n",
    "    sorted_arr = []\n",
    "    i=0\n",
    "    j=0\n",
    "    while i < len(l_arr) and j < len(r_arr):\n",
    "        if l_arr[i] > r_arr[j]:\n",
    "            sorted_arr.append(r_arr[j])\n",
    "            j += 1\n",
    "        elif l_arr[i] <= r_arr[j]:\n",
    "            sorted_arr.append(l_arr[i])\n",
    "            i += 1\n",
    "    while j < len(r_arr):\n",
    "        sorted_arr.append(r_arr[j])\n",
    "        j += 1\n",
    "    while i < len(l_arr):\n",
    "        sorted_arr.append(l_arr[i])\n",
    "        i += 1\n",
    "    return sorted_arr"
   ]
  },
  {
   "cell_type": "code",
   "execution_count": 126,
   "metadata": {},
   "outputs": [
    {
     "name": "stdout",
     "output_type": "stream",
     "text": [
      "11.2 µs ± 1.35 µs per loop (mean ± std. dev. of 7 runs, 100000 loops each)\n"
     ]
    }
   ],
   "source": [
    "%timeit merge_sort2([3, 4, -5, 1, 6, 8, -2, -8])"
   ]
  },
  {
   "cell_type": "code",
   "execution_count": 127,
   "metadata": {},
   "outputs": [
    {
     "name": "stdout",
     "output_type": "stream",
     "text": [
      "10.4 µs ± 186 ns per loop (mean ± std. dev. of 7 runs, 100000 loops each)\n"
     ]
    }
   ],
   "source": [
    "%timeit merge_sort2([1,2,3,4,5,6,7,8])"
   ]
  },
  {
   "cell_type": "code",
   "execution_count": 128,
   "metadata": {},
   "outputs": [
    {
     "name": "stdout",
     "output_type": "stream",
     "text": [
      "10.9 µs ± 1.27 µs per loop (mean ± std. dev. of 7 runs, 100000 loops each)\n"
     ]
    }
   ],
   "source": [
    "%timeit merge_sort2([8, 7, 6, 5, 4, 3, 2, 1])"
   ]
  },
  {
   "cell_type": "markdown",
   "metadata": {},
   "source": [
    "#### Another way to merge by adding infinity to the end of each list to be merged"
   ]
  },
  {
   "cell_type": "code",
   "execution_count": 162,
   "metadata": {},
   "outputs": [],
   "source": [
    "def merge(l_arr, r_arr):\n",
    "    sorted_arr = []\n",
    "    p = 0\n",
    "    r =len(l_arr)+len(r_arr)\n",
    "    l_arr.append(float('inf'))\n",
    "    r_arr.append(float('inf'))\n",
    "    i, j = 0, 0\n",
    "    for k in range(p, r):\n",
    "        if l_arr[i] <= r_arr[j]:\n",
    "            sorted_arr.append(l_arr[i])\n",
    "            i += 1\n",
    "        else:\n",
    "            sorted_arr.append(r_arr[j])\n",
    "            j += 1\n",
    "    return sorted_arr"
   ]
  },
  {
   "cell_type": "code",
   "execution_count": 163,
   "metadata": {
    "scrolled": true
   },
   "outputs": [
    {
     "data": {
      "text/plain": [
       "[-8, -4, -3, 2, 2, 3, 3, 4, 5, 5, 10]"
      ]
     },
     "execution_count": 163,
     "metadata": {},
     "output_type": "execute_result"
    }
   ],
   "source": [
    "l_arr = [-4, 2, 3, 5]\n",
    "r_arr = [-8, -3, 2, 3, 4, 5, 10]\n",
    "merge(l_arr, r_arr)"
   ]
  },
  {
   "cell_type": "markdown",
   "metadata": {},
   "source": [
    "### Quick Sort"
   ]
  },
  {
   "cell_type": "markdown",
   "metadata": {},
   "source": [
    "#### Quick Sort (Method 1) - [in-place sort] [Takes less time than Method 2 which is not an in-place sort]"
   ]
  },
  {
   "cell_type": "code",
   "execution_count": 20,
   "metadata": {},
   "outputs": [],
   "source": [
    "def quick_sort1(arr, left, right):\n",
    "    if left >= right:\n",
    "        return\n",
    "    from random import randint\n",
    "#     Random Pivot choosen\n",
    "    pivot = randint(left, right)\n",
    "    arr[left], arr[pivot] = arr[pivot], arr[left]\n",
    "    pivot = left\n",
    "    i, j = pivot+1, pivot+1\n",
    "    while j <= right:\n",
    "        if arr[j] < arr[pivot]:\n",
    "            arr[i], arr[j] = arr[j], arr[i]\n",
    "            i += 1\n",
    "        j += 1\n",
    "    arr[pivot], arr[i-1] = arr[i-1], arr[pivot]\n",
    "    pivot = i-1\n",
    "    quick_sort1(arr, left, pivot-1)\n",
    "    quick_sort1(arr, pivot+1, right)\n",
    "    return arr"
   ]
  },
  {
   "cell_type": "code",
   "execution_count": 25,
   "metadata": {},
   "outputs": [
    {
     "name": "stdout",
     "output_type": "stream",
     "text": [
      "12.5 µs ± 264 ns per loop (mean ± std. dev. of 7 runs, 100000 loops each)\n"
     ]
    }
   ],
   "source": [
    "arr = [3, 4, -5, 1, 6, 8, -2, -8]\n",
    "%timeit quick_sort1(arr, 0, len(arr)-1)"
   ]
  },
  {
   "cell_type": "code",
   "execution_count": 26,
   "metadata": {},
   "outputs": [
    {
     "name": "stdout",
     "output_type": "stream",
     "text": [
      "12.6 µs ± 212 ns per loop (mean ± std. dev. of 7 runs, 100000 loops each)\n"
     ]
    }
   ],
   "source": [
    "arr = [8, 7, 6, 5, 4, 3, 2, 1]\n",
    "%timeit quick_sort1(arr, 0, len(arr)-1)"
   ]
  },
  {
   "cell_type": "code",
   "execution_count": 27,
   "metadata": {},
   "outputs": [
    {
     "name": "stdout",
     "output_type": "stream",
     "text": [
      "12.5 µs ± 268 ns per loop (mean ± std. dev. of 7 runs, 100000 loops each)\n"
     ]
    }
   ],
   "source": [
    "arr = [1,2,3,4,5,6,7,8]\n",
    "%timeit quick_sort1(arr, 0, len(arr)-1)"
   ]
  },
  {
   "cell_type": "code",
   "execution_count": 21,
   "metadata": {},
   "outputs": [
    {
     "data": {
      "text/plain": [
       "[38, 39, 42, 59, 59, 77, 83, 87, 91, 91, 98, 99]"
      ]
     },
     "execution_count": 21,
     "metadata": {},
     "output_type": "execute_result"
    }
   ],
   "source": [
    "lst = [59, 87, 39, 77, 59, 91, 42, 99, 83, 38, 98, 91]\n",
    "quick_sort1(lst, 0, len(lst)-1)"
   ]
  },
  {
   "cell_type": "code",
   "execution_count": 11,
   "metadata": {},
   "outputs": [
    {
     "name": "stdout",
     "output_type": "stream",
     "text": [
      "19.9 µs ± 1.24 µs per loop (mean ± std. dev. of 7 runs, 100000 loops each)\n"
     ]
    }
   ],
   "source": [
    "lst = [59, 87, 39, 77, 59, 91, 42, 99, 83, 38, 98, 91]\n",
    "%timeit quick_sort1(lst, 0, len(lst)-1)"
   ]
  },
  {
   "cell_type": "markdown",
   "metadata": {},
   "source": [
    "#### Quick Sort (Method 2) - [Not an in-place sort] [Takes more time than Method 1 which is in-place sort]"
   ]
  },
  {
   "cell_type": "code",
   "execution_count": 22,
   "metadata": {},
   "outputs": [],
   "source": [
    "def quick_sort2(arr, p, r):\n",
    "    from random import randint\n",
    "    if p >= r:\n",
    "        return\n",
    "    idx = randint(p, r)\n",
    "    pivot = arr[idx]\n",
    "    l_arr = []\n",
    "    r_arr = []\n",
    "    for i in range(p, r+1):\n",
    "        if i == idx:\n",
    "            continue\n",
    "        if arr[i] <= pivot:\n",
    "            l_arr.append(arr[i])\n",
    "        elif arr[i] > pivot:\n",
    "            r_arr.append(arr[i])\n",
    "    q = len(arr[:p]) + len(l_arr)\n",
    "    arr = arr[:p] + l_arr + [pivot] + r_arr + arr[r+1:]\n",
    "    left_arr = quick_sort2(arr, p, q-1) if len(l_arr) > 1 else l_arr\n",
    "    right_arr = quick_sort2(arr, q+1, r) if len(r_arr) > 1 else r_arr\n",
    "    return left_arr + [pivot] + right_arr            "
   ]
  },
  {
   "cell_type": "code",
   "execution_count": 2,
   "metadata": {},
   "outputs": [
    {
     "name": "stdout",
     "output_type": "stream",
     "text": [
      "16.6 µs ± 1.08 µs per loop (mean ± std. dev. of 7 runs, 100000 loops each)\n"
     ]
    }
   ],
   "source": [
    "arr = [3, 4, -5, 1, 6, 8, -2, -8]\n",
    "%timeit quick_sort2(arr, 0, len(arr)-1)"
   ]
  },
  {
   "cell_type": "code",
   "execution_count": 304,
   "metadata": {},
   "outputs": [
    {
     "name": "stdout",
     "output_type": "stream",
     "text": [
      "13 µs ± 904 ns per loop (mean ± std. dev. of 7 runs, 100000 loops each)\n"
     ]
    }
   ],
   "source": [
    "arr = [8, 7, 6, 5, 4, 3, 2, 1]\n",
    "%timeit quick_sort2(arr, 0, len(arr)-1)"
   ]
  },
  {
   "cell_type": "code",
   "execution_count": 7,
   "metadata": {},
   "outputs": [
    {
     "name": "stdout",
     "output_type": "stream",
     "text": [
      "16.7 µs ± 950 ns per loop (mean ± std. dev. of 7 runs, 100000 loops each)\n"
     ]
    }
   ],
   "source": [
    "arr = [1,2,3,4,5,6,7,8]\n",
    "%timeit quick_sort2(arr, 0, len(arr)-1)"
   ]
  },
  {
   "cell_type": "code",
   "execution_count": 24,
   "metadata": {},
   "outputs": [
    {
     "name": "stdout",
     "output_type": "stream",
     "text": [
      "28.7 µs ± 5 µs per loop (mean ± std. dev. of 7 runs, 10000 loops each)\n"
     ]
    }
   ],
   "source": [
    "lst = [59, 87, 39, 77, 59, 91, 42, 99, 83, 38, 98, 91]\n",
    "%timeit quick_sort2(lst, 0, len(lst)-1)"
   ]
  },
  {
   "cell_type": "markdown",
   "metadata": {},
   "source": [
    "#### Performance comaprision of different sorting algorithms on random list of 10000 elements"
   ]
  },
  {
   "cell_type": "code",
   "execution_count": 305,
   "metadata": {},
   "outputs": [],
   "source": [
    "from random import randint\n",
    "arr = [random.randint(0,10000000) for i in range(10000)]"
   ]
  },
  {
   "cell_type": "code",
   "execution_count": 307,
   "metadata": {},
   "outputs": [
    {
     "name": "stdout",
     "output_type": "stream",
     "text": [
      "2.49 s ± 37.7 ms per loop (mean ± std. dev. of 7 runs, 1 loop each)\n"
     ]
    }
   ],
   "source": [
    "%timeit selection_sort(arr)"
   ]
  },
  {
   "cell_type": "code",
   "execution_count": 308,
   "metadata": {},
   "outputs": [
    {
     "name": "stdout",
     "output_type": "stream",
     "text": [
      "3.8 ms ± 119 µs per loop (mean ± std. dev. of 7 runs, 100 loops each)\n"
     ]
    }
   ],
   "source": [
    "%timeit insertion_sort(arr)"
   ]
  },
  {
   "cell_type": "code",
   "execution_count": 312,
   "metadata": {},
   "outputs": [
    {
     "name": "stdout",
     "output_type": "stream",
     "text": [
      "32.1 ms ± 508 µs per loop (mean ± std. dev. of 7 runs, 10 loops each)\n"
     ]
    }
   ],
   "source": [
    "%timeit merge_sort1(0, len(arr)-1, arr)"
   ]
  },
  {
   "cell_type": "code",
   "execution_count": 313,
   "metadata": {},
   "outputs": [
    {
     "name": "stdout",
     "output_type": "stream",
     "text": [
      "34.7 ms ± 320 µs per loop (mean ± std. dev. of 7 runs, 10 loops each)\n"
     ]
    }
   ],
   "source": [
    "%timeit merge_sort2(arr)"
   ]
  },
  {
   "cell_type": "code",
   "execution_count": 306,
   "metadata": {},
   "outputs": [
    {
     "name": "stdout",
     "output_type": "stream",
     "text": [
      "836 ms ± 17.6 ms per loop (mean ± std. dev. of 7 runs, 1 loop each)\n"
     ]
    }
   ],
   "source": [
    "%timeit quick_sort(0, len(arr)-1, arr)"
   ]
  },
  {
   "cell_type": "code",
   "execution_count": 315,
   "metadata": {},
   "outputs": [
    {
     "name": "stdout",
     "output_type": "stream",
     "text": [
      "76.3 µs ± 1.48 µs per loop (mean ± std. dev. of 7 runs, 10000 loops each)\n"
     ]
    }
   ],
   "source": [
    "%timeit sorted(arr)"
   ]
  },
  {
   "cell_type": "markdown",
   "metadata": {},
   "source": [
    "### Counting Sort\n",
    "#### Sorting elements by Rearranging things (Not comparision based sorting)"
   ]
  },
  {
   "cell_type": "markdown",
   "metadata": {},
   "source": [
    "Normally in sorting algorithms like Selection sort, Insertion sort, Merge sort or Quick sort we use comparision as the method to sort the given array i.e. a sort key is taken at each step and comapred with other values of the array to determine its position in the sorted array. But in some cases, we can sort the elements of an array without actually comparing each and every element of the array by counting the how many times each element in the array is present\n",
    "\n",
    "This method can only be useful if we already have an existing knowledge of what the range of values would be in an array and if the elements in an array are of range `0` to `m-1` `(i.e. no element in an array should be -ve)`, then `m` must be `m <= len(arr)`. If `m` is very much greater than the length of the array itself, means `m` can take larger range of values to track with leading to way more time than sorting using comparision sorting algoithms\n",
    "\n",
    "`***Note: The sort keys (i.e. elements of the array) should be integers. If the sort keys were real numbers with fractional parts, or they were character strings, then we could not use counting sort. This method is more beneficial if there are more repeated elements in an array along with the condition that we already have an existing knowledge of range of values in an array`"
   ]
  },
  {
   "cell_type": "markdown",
   "metadata": {},
   "source": [
    "#### Counting Sort Method 1"
   ]
  },
  {
   "cell_type": "code",
   "execution_count": 26,
   "metadata": {},
   "outputs": [],
   "source": [
    "def count_sort1(arr, n, m):\n",
    "    def count(arr, n, m):\n",
    "        equal = [0 for i in range(m)]\n",
    "        for i in range(n):\n",
    "            key = arr[i]\n",
    "            equal[key] += 1\n",
    "        return equal\n",
    "    equal = count(arr, n, m)\n",
    "    sorted_arr = []\n",
    "    for i in range(m):\n",
    "        if equal[i] == 0:\n",
    "            continue\n",
    "        for j in range(equal[i]):\n",
    "            sorted_arr.append(i)\n",
    "    return sorted_arr"
   ]
  },
  {
   "cell_type": "code",
   "execution_count": 8,
   "metadata": {},
   "outputs": [
    {
     "name": "stdout",
     "output_type": "stream",
     "text": [
      "4.17 µs ± 388 ns per loop (mean ± std. dev. of 7 runs, 100000 loops each)\n"
     ]
    }
   ],
   "source": [
    "arr = [4,1,5,0,1,6,5,1,5,3] # This array has range of elements from 0 to 6 i.e. here, m = 7\n",
    "%timeit count_sort1(arr, len(arr), 7)"
   ]
  },
  {
   "cell_type": "code",
   "execution_count": 34,
   "metadata": {},
   "outputs": [
    {
     "name": "stdout",
     "output_type": "stream",
     "text": [
      "63.8 µs ± 1.03 µs per loop (mean ± std. dev. of 7 runs, 10000 loops each)\n"
     ]
    }
   ],
   "source": [
    "# Range is way more = 1001 than len(arr), so it takes more time than regular comparision sorting algorithms\n",
    "arr = [8, 7, 6, 5, 4, 3, 2, 1000]\n",
    "%timeit count_sort1(arr, len(arr), 1001)"
   ]
  },
  {
   "cell_type": "markdown",
   "metadata": {},
   "source": [
    "#### Counting Sort Method 2\n",
    "\n",
    "Try to understand how this function works internally, what `equal` and `less` actually represents and what is their relation with respect to given array `arr` and final sorted array `sorted_arr`\n",
    "\n",
    "Here is an example:<br>\n",
    "`\n",
    "Given array arr =  [4, 1, 5, 1, 6, 5, 1, 5, 3]\n",
    "equal =  [0, 3, 0, 1, 1, 3, 1]\n",
    "less =   [0, 0, 3, 3, 4, 5, 8]\n",
    "sorted_arr = [1, 1, 1, 3, 4, 5, 5, 5, 6]`"
   ]
  },
  {
   "cell_type": "code",
   "execution_count": 27,
   "metadata": {},
   "outputs": [],
   "source": [
    "def count_sort2(arr, n, m):\n",
    "    def count(arr, n, m):\n",
    "        equal = [0 for i in range(m)]\n",
    "        for i in range(n):\n",
    "            key = arr[i]\n",
    "            equal[key] += 1\n",
    "        return equal\n",
    "    equal = count(arr, n, m)\n",
    "    less = [0 for i in range(m)]\n",
    "    for j in range(1, m):\n",
    "        less[j] = less[j-1]+equal[j-1]\n",
    "    sorted_arr = [0 for i in range(n)]\n",
    "    for i in range(n):\n",
    "        key = arr[i]\n",
    "        idx = less[key]\n",
    "        sorted_arr[idx] = arr[i]\n",
    "        less[key] += 1\n",
    "    return sorted_arr"
   ]
  },
  {
   "cell_type": "code",
   "execution_count": 10,
   "metadata": {},
   "outputs": [
    {
     "name": "stdout",
     "output_type": "stream",
     "text": [
      "4.74 µs ± 130 ns per loop (mean ± std. dev. of 7 runs, 100000 loops each)\n"
     ]
    }
   ],
   "source": [
    "arr = [4,1,5,0,1,6,5,1,5,3] # This array has range of elements from 0 to 6 i.e. here, m = 7\n",
    "%timeit count_sort2(arr, len(arr), 7)"
   ]
  },
  {
   "cell_type": "code",
   "execution_count": 35,
   "metadata": {},
   "outputs": [
    {
     "name": "stdout",
     "output_type": "stream",
     "text": [
      "166 µs ± 2.12 µs per loop (mean ± std. dev. of 7 runs, 10000 loops each)\n"
     ]
    }
   ],
   "source": [
    "# Range is way more = 1001 than len(arr), so it takes more time than regular comparision sorting algorithms\n",
    "arr = [8, 7, 6, 5, 4, 3, 2, 1000]\n",
    "%timeit count_sort2(arr, len(arr), 1001)"
   ]
  },
  {
   "cell_type": "markdown",
   "metadata": {},
   "source": [
    "### Radix Sort using counting sort algorithm multiple times"
   ]
  },
  {
   "cell_type": "markdown",
   "metadata": {},
   "source": [
    "If there are 'd' digits in each of the string element in an array, then the radix sort applies counting sort algorithm on each digit of this string element of an array from rightwards to leftwards `(for ex: 'FS6', first we start with right most digit '6' and then go towards left, second with 'S' and then 'F'`<br>\n",
    "<br> For example, <br>\n",
    "`arr =   ['XI7FS6', 'PL4ZQ2', 'JI8FR9', 'XL8FQ6', 'PY2ZR5', 'KV7WS9', 'JL2ZV3', 'KI4WR2']`\n",
    "<br><br>\n",
    "We apply counting sort algorithm in this order from rightmost element and move leftwards<br>\n",
    "`First = ['6', '2', '9', '6', '5', '9', '3', '2']\n",
    "Second = ['S', 'Q', 'R', 'Q', 'R', 'S', 'V', 'R']\n",
    "Third =  ['F', 'Z', 'F', 'F', 'Z', 'W', 'Z', 'W']\n",
    "Fourth = ['7', '4', '8', '8', '2', '7', '2', '4']\n",
    "Fifth =  ['I', 'L', 'I', 'L', 'Y', 'V', 'L', 'I']\n",
    "Last =   ['X', 'P', 'J', 'X', 'P', 'K', 'J', 'K']`"
   ]
  },
  {
   "cell_type": "markdown",
   "metadata": {},
   "source": [
    "#### Below count_sort_radix function is based on Counting Sort Method 1 (Modifications are made to Counting Sort Method 1 to support this functionality)"
   ]
  },
  {
   "cell_type": "code",
   "execution_count": 1,
   "metadata": {},
   "outputs": [],
   "source": [
    "def count_sort_radix1(arr, n, m):\n",
    "    def count(arr, n, m):\n",
    "        equal = [0 for i in range(m)]\n",
    "        for i in range(n):\n",
    "            key = arr[i]\n",
    "            equal[key] += 1\n",
    "        return equal\n",
    "    equal = count(arr, n, m)\n",
    "    sorted_arr_indx = []\n",
    "    for i in range(m):\n",
    "        if equal[i] == 0:\n",
    "            continue\n",
    "# We get the index of the sorted array based on the original array \n",
    "# [as in 'arr' that was passed to this count_sort_radix function] \n",
    "        for j in range(equal[i]):\n",
    "            if not j:\n",
    "                idx = arr.index(i)\n",
    "                sorted_arr_indx.append(idx)\n",
    "                temp = arr[idx+1:]\n",
    "            else:\n",
    "                temp_idx = idx + temp.index(i) + 1\n",
    "                sorted_arr_indx.append(temp_idx)\n",
    "                idx = temp_idx\n",
    "                temp = arr[idx+1:]\n",
    "    return sorted_arr_indx"
   ]
  },
  {
   "cell_type": "code",
   "execution_count": 2,
   "metadata": {},
   "outputs": [],
   "source": [
    "def radix_sort(original_arr, function):\n",
    "    s = \"0123456789abcdefghijklmnopqrstuvwxyz\"\n",
    "    ref = {}\n",
    "    for i in range(len(s)):\n",
    "        ref[s[i]] = i\n",
    "    for i in range(len(original_arr[0])):\n",
    "        temp1 = [original_arr[j][-(i+1)] for j in range(len(original_arr))]\n",
    "        temp2 = [ref[ele.lower()] for ele in temp1]\n",
    "        sorted_arr_indx = function(temp2, len(temp2), 36)\n",
    "        sorted_arr = []\n",
    "        for ele in sorted_arr_indx:\n",
    "            sorted_arr.append(original_arr[ele])\n",
    "        original_arr = sorted_arr\n",
    "    return original_arr"
   ]
  },
  {
   "cell_type": "code",
   "execution_count": 3,
   "metadata": {},
   "outputs": [
    {
     "data": {
      "text/plain": [
       "['E5', 'F2', 'F6', 'R6', 'T3', 'T5', 'X2', 'X6']"
      ]
     },
     "execution_count": 3,
     "metadata": {},
     "output_type": "execute_result"
    }
   ],
   "source": [
    "arr = ['F6', 'E5', 'R6', 'X6', 'X2', 'T5', 'F2', 'T3']\n",
    "radix_sort(arr, count_sort_radix1)"
   ]
  },
  {
   "cell_type": "code",
   "execution_count": 4,
   "metadata": {},
   "outputs": [
    {
     "data": {
      "text/plain": [
       "['JI8FR9',\n",
       " 'JL2ZV3',\n",
       " 'KI4WR2',\n",
       " 'KV7WS9',\n",
       " 'PL4ZQ2',\n",
       " 'PY2ZR5',\n",
       " 'XI7FS6',\n",
       " 'XL8FQ6']"
      ]
     },
     "execution_count": 4,
     "metadata": {},
     "output_type": "execute_result"
    }
   ],
   "source": [
    "arr = ['XI7FS6', 'PL4ZQ2', 'JI8FR9', 'XL8FQ6', 'PY2ZR5', 'KV7WS9', 'JL2ZV3', 'KI4WR2']\n",
    "radix_sort(arr, count_sort_radix1)"
   ]
  },
  {
   "cell_type": "code",
   "execution_count": 77,
   "metadata": {},
   "outputs": [
    {
     "name": "stdout",
     "output_type": "stream",
     "text": [
      "63.9 µs ± 7.72 µs per loop (mean ± std. dev. of 7 runs, 10000 loops each)\n"
     ]
    }
   ],
   "source": [
    "arr = ['XI7FS6', 'PL4ZQ2', 'JI8FR9', 'XL8FQ6', 'PY2ZR5', 'KV7WS9', 'JL2ZV3', 'KI4WR2']\n",
    "%timeit radix_sort(arr, count_sort_radix1)"
   ]
  },
  {
   "cell_type": "markdown",
   "metadata": {},
   "source": [
    "#### Below count_sort_radix function is based on Counting Sort Method 2\n",
    "\n",
    "This method mostly doesn't varies with Counting Sort Method 2, except instead of sorting the elements of the arr, we directly take the values of the `original_arr = ['XI7FS6', 'PL4ZQ2', 'JI8FR9', 'XL8FQ6', 'PY2ZR5', 'KV7WS9', 'JL2ZV3', 'KI4WR2']`\n",
    "\n",
    "The only change in code is passing an additional array `original_arr` to the function along with at line 16 where `arr` is replaced with `original_arr` i.e.\n",
    "Original Counting sort Method 2 has `sorted_arr[idx] = arr[i]`\n",
    "count_sort_radix2 method has `sorted_arr[idx] = original_arr[i]`"
   ]
  },
  {
   "cell_type": "code",
   "execution_count": 5,
   "metadata": {},
   "outputs": [],
   "source": [
    "def count_sort_radix2(arr, original_arr, n, m):\n",
    "    def count(arr, n, m):\n",
    "        equal = [0 for i in range(m)]\n",
    "        for i in range(n):\n",
    "            key = arr[i]\n",
    "            equal[key] += 1\n",
    "        return equal\n",
    "    equal = count(arr, n, m)\n",
    "    less = [0 for i in range(m)]\n",
    "    for j in range(1, m):\n",
    "        less[j] = less[j-1]+equal[j-1]\n",
    "    sorted_arr = [0 for i in range(n)]\n",
    "    for i in range(n):\n",
    "        key = arr[i]\n",
    "        idx = less[key]\n",
    "# sorted_arr[idx] = arr[i] was replced with sorted_arr[idx] = original_arr[i]\n",
    "        sorted_arr[idx] = original_arr[i]\n",
    "        less[key] += 1\n",
    "    return sorted_arr"
   ]
  },
  {
   "cell_type": "code",
   "execution_count": 6,
   "metadata": {},
   "outputs": [],
   "source": [
    "def radix_sort(original_arr, function):\n",
    "    s = \"0123456789abcdefghijklmnopqrstuvwxyz\"\n",
    "    ref = {}\n",
    "    for i in range(len(s)):\n",
    "        ref[s[i]] = i\n",
    "    for i in range(len(original_arr[0])):\n",
    "        temp1 = [original_arr[j][-(i+1)] for j in range(len(original_arr))]\n",
    "        temp2 = [ref[ele.lower()] for ele in temp1]\n",
    "        sorted_arr = function(temp2, original_arr, len(temp2), 36)\n",
    "        original_arr = sorted_arr\n",
    "    return original_arr"
   ]
  },
  {
   "cell_type": "code",
   "execution_count": 81,
   "metadata": {},
   "outputs": [
    {
     "data": {
      "text/plain": [
       "['E5', 'F2', 'F6', 'R6', 'T3', 'T5', 'X2', 'X6']"
      ]
     },
     "execution_count": 81,
     "metadata": {},
     "output_type": "execute_result"
    }
   ],
   "source": [
    "arr = ['F6', 'E5', 'R6', 'X6', 'X2', 'T5', 'F2', 'T3']\n",
    "radix_sort(arr, count_sort_radix2)"
   ]
  },
  {
   "cell_type": "code",
   "execution_count": 82,
   "metadata": {},
   "outputs": [
    {
     "data": {
      "text/plain": [
       "['JI8FR9',\n",
       " 'JL2ZV3',\n",
       " 'KI4WR2',\n",
       " 'KV7WS9',\n",
       " 'PL4ZQ2',\n",
       " 'PY2ZR5',\n",
       " 'XI7FS6',\n",
       " 'XL8FQ6']"
      ]
     },
     "execution_count": 82,
     "metadata": {},
     "output_type": "execute_result"
    }
   ],
   "source": [
    "arr = ['XI7FS6', 'PL4ZQ2', 'JI8FR9', 'XL8FQ6', 'PY2ZR5', 'KV7WS9', 'JL2ZV3', 'KI4WR2']\n",
    "radix_sort(arr, count_sort_radix2)"
   ]
  },
  {
   "cell_type": "code",
   "execution_count": 83,
   "metadata": {},
   "outputs": [
    {
     "name": "stdout",
     "output_type": "stream",
     "text": [
      "66.4 µs ± 884 ns per loop (mean ± std. dev. of 7 runs, 10000 loops each)\n"
     ]
    }
   ],
   "source": [
    "arr = ['XI7FS6', 'PL4ZQ2', 'JI8FR9', 'XL8FQ6', 'PY2ZR5', 'KV7WS9', 'JL2ZV3', 'KI4WR2']\n",
    "%timeit radix_sort(arr, count_sort_radix2)"
   ]
  },
  {
   "cell_type": "code",
   "execution_count": null,
   "metadata": {},
   "outputs": [],
   "source": []
  }
 ],
 "metadata": {
  "kernelspec": {
   "display_name": "Python 3",
   "language": "python",
   "name": "python3"
  },
  "language_info": {
   "codemirror_mode": {
    "name": "ipython",
    "version": 3
   },
   "file_extension": ".py",
   "mimetype": "text/x-python",
   "name": "python",
   "nbconvert_exporter": "python",
   "pygments_lexer": "ipython3",
   "version": "3.7.5"
  }
 },
 "nbformat": 4,
 "nbformat_minor": 4
}
